{
 "metadata": {
  "name": "Dynamic PSHA"
 },
 "nbformat": 3,
 "nbformat_minor": 0,
 "worksheets": [
  {
   "cells": [
    {
     "cell_type": "heading",
     "level": 1,
     "metadata": {},
     "source": [
      "Example Demonstration of Time Varying Hazard using OpenQuake-hazardlib"
     ]
    },
    {
     "cell_type": "markdown",
     "metadata": {},
     "source": [
      "This workflow demonstrates the use of the OQ-hazardlib to generate short-term GMPEs with dynamically adjusted activity rates. Demonstration example based on workflow described by Convertito et al (2012)\n",
      "\n",
      "The Convertito et al model uses two area sources, depths are assumed to be distributed evenly in the range (1 - 20 km). "
     ]
    },
    {
     "cell_type": "code",
     "collapsed": false,
     "input": [
      "import numpy as np\n",
      "import matplotlib.pyplot as plt\n",
      "from decimal import Decimal\n",
      "from openquake.hazardlib.pmf import PMF\n",
      "from openquake.hazardlib.geo.point import Point\n",
      "from openquake.hazardlib.geo.polygon import Polygon\n",
      "from openquake.hazardlib.source.area import AreaSource\n",
      "from openquake.hazardlib.geo.nodalplane import NodalPlane\n",
      "from openquake.hazardlib.scalerel.point import PointMSR\n",
      "from openquake.hazardlib.mfd.truncated_gr import TruncatedGRMFD\n",
      "from openquake.hazardlib.tom import PoissonTOM\n",
      "from openquake.hazardlib.site import Site, SiteCollection\n",
      "from openquake.hazardlib.calc.hazard_curve import hazard_curves\n",
      "from openquake.hazardlib.imt import PGA, SA\n",
      "from openquake.hazardlib.gsim.akkar_2013 import AkkarEtAl2013\n",
      "from openquake.hazardlib.gsim.berge_thierry_2003 import BergeThierryEtAl2003SIGMA\n",
      "\n",
      "print 'Imports OK'\n"
     ],
     "language": "python",
     "metadata": {},
     "outputs": [
      {
       "output_type": "stream",
       "stream": "stdout",
       "text": [
        "Imports OK\n"
       ]
      }
     ],
     "prompt_number": 1
    },
    {
     "cell_type": "code",
     "collapsed": false,
     "input": [
      "# Common source zone attributes\n",
      "\n",
      "geometry1 = Polygon([Point(-122.70080432106884, 38.83050716337448),\n",
      "                     Point(-122.6511265434277, 38.76896603584888),\n",
      "                     Point(-122.6511265434277, 38.70964928642661),\n",
      "                     Point(-122.73936020819332, 38.71039074579439),\n",
      "                     Point(-122.77495025784667, 38.76155144217109),\n",
      "                     Point(-122.70080432106884, 38.83050716337448)])\n",
      "\n",
      "geometry2 = Polygon([Point(-122.92843234697679, 38.88908245342897),\n",
      "                     Point(-122.79941841698336, 38.88908245342897),\n",
      "                     Point(-122.70080432106884, 38.83050716337448),\n",
      "                     Point(-122.77495025784667, 38.760809982803316),\n",
      "                     Point(-122.92991526571234, 38.800848788663345),\n",
      "                     Point(-122.92991526571234, 38.800848788663345),\n",
      "                     Point(-122.92843234697679, 38.88908245342897)])\n",
      "\n",
      "upper_seismo_depth = 0.\n",
      "lower_seismo_depth = 21.\n",
      "\n",
      "# Nodal plane distribution is a required attribute, but it will not influence here!\n",
      "npd = PMF([(Decimal('1.0'), NodalPlane(0.,90., 0.))])\n",
      "\n",
      "# Define distribute hypocentral depth probabilities uniformly through upper 20 km of crust\n",
      "hypos = np.arange(1., 21., 1.)\n",
      "hdd = PMF([(Decimal('0.05'), hypo) for hypo in hypos])"
     ],
     "language": "python",
     "metadata": {},
     "outputs": [],
     "prompt_number": 2
    },
    {
     "cell_type": "code",
     "collapsed": false,
     "input": [
      "# Create the mesh of targeted points\n",
      "bbox = Polygon([Point(-123.0, 39.00), Point(-122.60, 39.00), Point(-122.60, 38.60), Point(-123.0, 38.60), Point(-123.0, 39.0)])\n",
      "target_mesh = bbox.discretize(2.0)\n",
      "\n",
      "vs30 = 850.0 # Rock site is considered\n",
      "target_mesh = SiteCollection([Site(Point(target_mesh.lons[i], target_mesh.lats[i]), vs30, True, 100.0, 5.0) \n",
      "                              for i in range(0, len(target_mesh.lons))])\n"
     ],
     "language": "python",
     "metadata": {},
     "outputs": [],
     "prompt_number": 3
    },
    {
     "cell_type": "code",
     "collapsed": false,
     "input": [
      "# Show source and target geometry combination\n",
      "plt.figure(figsize=(8, 6))\n",
      "plt.plot(target_mesh.mesh.lons, target_mesh.mesh.lats, 'k.')\n",
      "plt.plot(geometry1.lons, geometry1.lats, 'r-', linewidth=2.0)\n",
      "plt.plot(geometry2.lons, geometry2.lats, 'r-', linewidth=2.0)\n",
      "plt.text(-122.85, 38.85, 'Zone 1', fontsize=17, color='r')\n",
      "plt.text(-122.75, 38.75, 'Zone 2', fontsize=17, color='r')\n",
      "plt.xlabel('Longitude', fontsize=17)\n",
      "plt.ylabel('Latitude', fontsize=17)"
     ],
     "language": "python",
     "metadata": {},
     "outputs": [
      {
       "output_type": "pyout",
       "prompt_number": 4,
       "text": [
        "<matplotlib.text.Text at 0x3056d50>"
       ]
      },
      {
       "output_type": "display_data",
       "png": "[encoded data removed]"
      }
     ],
     "prompt_number": 4
    },
    {
     "cell_type": "code",
     "collapsed": false,
     "input": [
      "zone_1_bvalues = np.array([1.3, 1.25, 1.7, 1.4, 1.6, 1.5])\n",
      "zone_1_rate = np.array([200., 400., 300., 500., 500., 300.])\n",
      "zone_1_avalues = np.log10(zone_1_rate) + 1.2 * zone_1_bvalues\n",
      "zone_1_mmax = 4.5\n",
      "\n",
      "zone_1_avalues = np.log10(zone_1_rate / (10.0 ** (-zone_1_bvalues * 1.2) - 10.0 ** (-zone_1_bvalues * zone_1_mmax)))\n",
      "\n",
      "zone_2_mmax = 3.8\n",
      "zone_2_bvalues = np.array([1.25, 1.0, 0.9, 1.0, 1.0, 1.4])\n",
      "zone_2_rate = np.array([60., 60., 80., 100., 100., 80.])\n",
      "#zone_2_avalues = np.log10(zone_2_rate) + 1.2 * zone_2_bvalues  # OQ interprets a-values as annual\n",
      "zone_2_avalues = np.log10(zone_2_rate / (10.0 ** (-zone_2_bvalues * 1.2) - 10.0 ** (-zone_2_bvalues * zone_2_mmax)))\n",
      "\n",
      "\n",
      "mmin = 1.2\n",
      "print zone_1_avalues, zone_2_avalues\n"
     ],
     "language": "python",
     "metadata": {},
     "outputs": [
      {
       "output_type": "stream",
       "stream": "stdout",
       "text": [
        "[ 3.86105227  4.10209256  4.51712232  4.37898042  4.61897228  4.27712613] [ 3.27839554  2.97924352  2.98507965  3.20109227  3.20109227  3.58318949]\n"
       ]
      }
     ],
     "prompt_number": 5
    },
    {
     "cell_type": "code",
     "collapsed": false,
     "input": [
      "# Setup PSHA calculation\n",
      "imls = [0.0001, 0.001, 0.005, 0.007, 0.0098, 0.0137, 0.0192, 0.0269, 0.0376, 0.0527, 0.0738, 0.103, 0.145,\n",
      "        0.203, 0.284, 0.397, 0.556, 0.778, 1.0]\n",
      "\n",
      "# Get hazard curves for PGA only\n",
      "imts = {PGA(): imls}\n",
      "\n",
      "# Examples use Berge-Thierry (2003) GMPE\n",
      "gmpes= {'Active Shallow Crust': AkkarEtAl2013()}\n",
      "\n",
      "# Poisson temporal occurence model (in this case) corresponds to twice the length of time window of the a-value\n",
      "tom = PoissonTOM(2.0) "
     ],
     "language": "python",
     "metadata": {},
     "outputs": [],
     "prompt_number": 21
    },
    {
     "cell_type": "code",
     "collapsed": false,
     "input": [],
     "language": "python",
     "metadata": {},
     "outputs": []
    },
    {
     "cell_type": "code",
     "collapsed": false,
     "input": [
      "def get_maps_from_curves(curves, imls, poes):\n",
      "    \"\"\"\n",
      "    Retreives maps from a set of curves\n",
      "    \"\"\"\n",
      "    maps = []\n",
      "    imls = np.log(np.array(imls[::-1]))\n",
      "    for curve in curves:\n",
      "        map_val = np.exp(np.interp(np.log(poes), np.log(curve[::-1]), imls))\n",
      "        maps.append(map_val)\n",
      "    return "
     ],
     "language": "python",
     "metadata": {},
     "outputs": [],
     "prompt_number": 7
    },
    {
     "cell_type": "code",
     "collapsed": false,
     "input": [
      "results = []\n",
      "# Return maps of the 10 %, 50 % and 90 % probability of being exceeded in the forecast window\n",
      "map_poes = [0.1, 0.5, 0.9]\n",
      "\n",
      "for i in range(0, 6):\n",
      "    print 'Running calculation %s of %s' %(i + 1, 6)\n",
      "    print '    Building sources ...'\n",
      "    source_model = [\n",
      "                    # Create Instance of Source Zone 1\n",
      "                    AreaSource('001', \n",
      "                               'Zone 1', \n",
      "                               'Active Shallow Crust',\n",
      "                               TruncatedGRMFD(mmin, zone_1_mmax, 0.1, zone_1_avalues[i], zone_1_bvalues[i]),\n",
      "                               0.1, # Rupture mesh spacing (ignored)\n",
      "                               PointMSR(), # Only point source ruptures considered\n",
      "                               1.0, # Rupture Aspect Ratio (ignored)\n",
      "                               tom,\n",
      "                               upper_seismo_depth,\n",
      "                               lower_seismo_depth,\n",
      "                               npd,\n",
      "                               hdd,\n",
      "                               geometry1, # Area source geometry\n",
      "                               1.0), # Area source discretization = 0.5 km\n",
      "                    # Create Instance of Source Zone 2\n",
      "                    AreaSource('002', \n",
      "                               'Zone 2', \n",
      "                               'Active Shallow Crust',\n",
      "                               TruncatedGRMFD(mmin, zone_2_mmax, 0.1, zone_2_avalues[i], zone_2_bvalues[i]),\n",
      "                               0.1, # Rupture mesh spacing (ignored)\n",
      "                               PointMSR(), # Only point source ruptures considered\n",
      "                               1.0, # Rupture Aspect Ratio (ignored)\n",
      "                               tom,\n",
      "                               upper_seismo_depth,\n",
      "                               lower_seismo_depth,\n",
      "                               npd,\n",
      "                               hdd,\n",
      "                               geometry2, # Area source geometry\n",
      "                               1.0) # Area source discretization = 0.5 km\n",
      "            ] \n",
      "    print '    Running PSHA calculation'\n",
      "    curves = hazard_curves(sources=source_model,\n",
      "                           sites=target_mesh,\n",
      "                           imts=imts,\n",
      "                           gsims=gmpes,\n",
      "                           truncation_level=3.0) # Sigma truncation level (+/- 3.0)\n",
      "    \n",
      "    print '    Interpolating to required POES'\n",
      "    results.append({'curves': curves, \n",
      "                       'maps': get_maps_from_curves(curves[PGA()], imls, map_poes)})\n",
      "    print '    Done!'\n",
      "\n",
      "print 'All curves completed'                "
     ],
     "language": "python",
     "metadata": {},
     "outputs": [
      {
       "output_type": "stream",
       "stream": "stdout",
       "text": [
        "Running calculation 1 of 6\n",
        "    Building sources ...\n",
        "    Running PSHA calculation\n",
        "    Interpolating to required POES"
       ]
      },
      {
       "output_type": "stream",
       "stream": "stdout",
       "text": [
        "\n",
        "    Done!\n",
        "Running calculation 2 of 6\n",
        "    Building sources ...\n",
        "    Running PSHA calculation\n",
        "    Interpolating to required POES"
       ]
      },
      {
       "output_type": "stream",
       "stream": "stdout",
       "text": [
        "\n",
        "    Done!\n",
        "Running calculation 3 of 6\n",
        "    Building sources ...\n",
        "    Running PSHA calculation\n",
        "    Interpolating to required POES"
       ]
      },
      {
       "output_type": "stream",
       "stream": "stdout",
       "text": [
        "\n",
        "    Done!\n",
        "Running calculation 4 of 6\n",
        "    Building sources ...\n",
        "    Running PSHA calculation\n",
        "    Interpolating to required POES"
       ]
      },
      {
       "output_type": "stream",
       "stream": "stdout",
       "text": [
        "\n",
        "    Done!\n",
        "Running calculation 5 of 6\n",
        "    Building sources ...\n",
        "    Running PSHA calculation\n",
        "    Interpolating to required POES"
       ]
      },
      {
       "output_type": "stream",
       "stream": "stdout",
       "text": [
        "\n",
        "    Done!\n",
        "Running calculation 6 of 6\n",
        "    Building sources ...\n",
        "    Running PSHA calculation\n",
        "    Interpolating to required POES"
       ]
      },
      {
       "output_type": "stream",
       "stream": "stdout",
       "text": [
        "\n",
        "    Done!\n",
        "All curves completed\n"
       ]
      }
     ],
     "prompt_number": 22
    },
    {
     "cell_type": "code",
     "collapsed": false,
     "input": [
      "plt.semilogy(imls, results[0]['curves'][PGA()][10,:], label='Period 1')\n",
      "plt.semilogy(imls, results[1]['curves'][PGA()][10,:], label='Period 2') \n",
      "plt.semilogy(imls, results[2]['curves'][PGA()][10,:], label='Period 3')\n",
      "plt.semilogy(imls, results[3]['curves'][PGA()][10,:], label='Period 4')\n",
      "plt.semilogy(imls, results[4]['curves'][PGA()][10,:], label='Period 5')\n",
      "plt.semilogy(imls, results[5]['curves'][PGA()][10,:], label='Period 6')\n",
      "plt.xlim(0.0, 0.15)\n",
      "plt.ylim(1E-6, 1)\n",
      "plt.legend()"
     ],
     "language": "python",
     "metadata": {},
     "outputs": [
      {
       "output_type": "pyout",
       "prompt_number": 25,
       "text": [
        "<matplotlib.legend.Legend at 0x601d950>"
       ]
      },
      {
       "output_type": "display_data",
       "png": "[encoded data removed]"
      }
     ],
     "prompt_number": 25
    },
    {
     "cell_type": "code",
     "collapsed": false,
     "input": [],
     "language": "python",
     "metadata": {},
     "outputs": []
    }
   ],
   "metadata": {}
  }
 ]
}